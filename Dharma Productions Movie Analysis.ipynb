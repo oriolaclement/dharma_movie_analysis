{
 "cells": [
  {
   "cell_type": "code",
   "execution_count": 3,
   "id": "b7d87b51",
   "metadata": {},
   "outputs": [],
   "source": [
    "import pandas as pd\n",
    "import numpy as np\n",
    "import matplotlib.pyplot as plt\n",
    "%matplotlib inline\n",
    "import seaborn as sns"
   ]
  },
  {
   "cell_type": "code",
   "execution_count": 4,
   "id": "137d4c77",
   "metadata": {},
   "outputs": [],
   "source": [
    "d_m_df =pd.read_csv('dharma.csv')"
   ]
  },
  {
   "cell_type": "code",
   "execution_count": 5,
   "id": "9e88ef9c",
   "metadata": {},
   "outputs": [
    {
     "data": {
      "text/html": [
       "<div>\n",
       "<style scoped>\n",
       "    .dataframe tbody tr th:only-of-type {\n",
       "        vertical-align: middle;\n",
       "    }\n",
       "\n",
       "    .dataframe tbody tr th {\n",
       "        vertical-align: top;\n",
       "    }\n",
       "\n",
       "    .dataframe thead th {\n",
       "        text-align: right;\n",
       "    }\n",
       "</style>\n",
       "<table border=\"1\" class=\"dataframe\">\n",
       "  <thead>\n",
       "    <tr style=\"text-align: right;\">\n",
       "      <th></th>\n",
       "      <th>Title</th>\n",
       "      <th>Year</th>\n",
       "      <th>Director</th>\n",
       "      <th>Producer(s)</th>\n",
       "      <th>Cast</th>\n",
       "      <th>Synopsis</th>\n",
       "      <th>Ref.</th>\n",
       "    </tr>\n",
       "  </thead>\n",
       "  <tbody>\n",
       "    <tr>\n",
       "      <th>0</th>\n",
       "      <td>Dostana</td>\n",
       "      <td>1980</td>\n",
       "      <td>Raj Khosla</td>\n",
       "      <td>Yash Johar</td>\n",
       "      <td>Amitabh Bachchan, Shatrughan Sinha, Zeenat Aman</td>\n",
       "      <td>A police officer and a lawyer are best friends...</td>\n",
       "      <td>[18]</td>\n",
       "    </tr>\n",
       "    <tr>\n",
       "      <th>1</th>\n",
       "      <td>Duniya</td>\n",
       "      <td>1984</td>\n",
       "      <td>Ramesh Talwar</td>\n",
       "      <td>Yash Johar</td>\n",
       "      <td>Dilip Kumar, Rishi Kapoor, Amrita Singh, Saira...</td>\n",
       "      <td>An honest man is wrongly imprisoned by crimina...</td>\n",
       "      <td>[19]</td>\n",
       "    </tr>\n",
       "    <tr>\n",
       "      <th>2</th>\n",
       "      <td>Muqaddar Ka Faisla</td>\n",
       "      <td>1987</td>\n",
       "      <td>Prakash Mehra</td>\n",
       "      <td>Yash Johar</td>\n",
       "      <td>Raaj Kumar, Raakhee, Raj Babbar, Meenakshi Ses...</td>\n",
       "      <td>A Hindu priest is wrongly imprisoned for rape....</td>\n",
       "      <td>[20]</td>\n",
       "    </tr>\n",
       "    <tr>\n",
       "      <th>3</th>\n",
       "      <td>Agneepath</td>\n",
       "      <td>1990</td>\n",
       "      <td>Mukul S. Anand</td>\n",
       "      <td>Yash Johar</td>\n",
       "      <td>Amitabh Bachchan, Mithun Chakraborty, Danny De...</td>\n",
       "      <td>A common man seeks revenge from an unscrupulou...</td>\n",
       "      <td>[21]</td>\n",
       "    </tr>\n",
       "    <tr>\n",
       "      <th>4</th>\n",
       "      <td>Gumrah</td>\n",
       "      <td>1993</td>\n",
       "      <td>Mahesh Bhatt</td>\n",
       "      <td>Yash Johar</td>\n",
       "      <td>Sridevi, Sanjay Dutt, Rahul Roy</td>\n",
       "      <td>An aspiring singer is wrongly accused of drug ...</td>\n",
       "      <td>[22]</td>\n",
       "    </tr>\n",
       "  </tbody>\n",
       "</table>\n",
       "</div>"
      ],
      "text/plain": [
       "                Title  Year        Director Producer(s)  \\\n",
       "0             Dostana  1980      Raj Khosla  Yash Johar   \n",
       "1              Duniya  1984   Ramesh Talwar  Yash Johar   \n",
       "2  Muqaddar Ka Faisla  1987   Prakash Mehra  Yash Johar   \n",
       "3           Agneepath  1990  Mukul S. Anand  Yash Johar   \n",
       "4              Gumrah  1993    Mahesh Bhatt  Yash Johar   \n",
       "\n",
       "                                                Cast  \\\n",
       "0    Amitabh Bachchan, Shatrughan Sinha, Zeenat Aman   \n",
       "1  Dilip Kumar, Rishi Kapoor, Amrita Singh, Saira...   \n",
       "2  Raaj Kumar, Raakhee, Raj Babbar, Meenakshi Ses...   \n",
       "3  Amitabh Bachchan, Mithun Chakraborty, Danny De...   \n",
       "4                    Sridevi, Sanjay Dutt, Rahul Roy   \n",
       "\n",
       "                                            Synopsis  Ref.  \n",
       "0  A police officer and a lawyer are best friends...  [18]  \n",
       "1  An honest man is wrongly imprisoned by crimina...  [19]  \n",
       "2  A Hindu priest is wrongly imprisoned for rape....  [20]  \n",
       "3  A common man seeks revenge from an unscrupulou...  [21]  \n",
       "4  An aspiring singer is wrongly accused of drug ...  [22]  "
      ]
     },
     "execution_count": 5,
     "metadata": {},
     "output_type": "execute_result"
    }
   ],
   "source": [
    "# checking what the dataset contain\n",
    "d_m_df.head()"
   ]
  },
  {
   "cell_type": "code",
   "execution_count": 6,
   "id": "e2c11a9c",
   "metadata": {},
   "outputs": [
    {
     "data": {
      "text/html": [
       "<div>\n",
       "<style scoped>\n",
       "    .dataframe tbody tr th:only-of-type {\n",
       "        vertical-align: middle;\n",
       "    }\n",
       "\n",
       "    .dataframe tbody tr th {\n",
       "        vertical-align: top;\n",
       "    }\n",
       "\n",
       "    .dataframe thead th {\n",
       "        text-align: right;\n",
       "    }\n",
       "</style>\n",
       "<table border=\"1\" class=\"dataframe\">\n",
       "  <thead>\n",
       "    <tr style=\"text-align: right;\">\n",
       "      <th></th>\n",
       "      <th>Title</th>\n",
       "      <th>Year</th>\n",
       "      <th>Director</th>\n",
       "      <th>Producer(s)</th>\n",
       "      <th>Cast</th>\n",
       "      <th>Synopsis</th>\n",
       "      <th>Ref.</th>\n",
       "    </tr>\n",
       "  </thead>\n",
       "  <tbody>\n",
       "    <tr>\n",
       "      <th>56</th>\n",
       "      <td>Dostana 2</td>\n",
       "      <td>2022</td>\n",
       "      <td>Collin D'Cunha</td>\n",
       "      <td>Karan JoharHiroo Johar,Apoorva Mehta</td>\n",
       "      <td>Janhvi Kapoor, Laksh Lalwani</td>\n",
       "      <td>TBA</td>\n",
       "      <td>[111]</td>\n",
       "    </tr>\n",
       "    <tr>\n",
       "      <th>57</th>\n",
       "      <td>Bedhadak</td>\n",
       "      <td>2022</td>\n",
       "      <td>Shashank Khaitan</td>\n",
       "      <td>Karan JoharHiroo Yash Johar,Apoorva Mehta</td>\n",
       "      <td>Laksh Lalwani, Gurfateh Singh Pirzada, Shanaya...</td>\n",
       "      <td>TBA</td>\n",
       "      <td>[112][113]</td>\n",
       "    </tr>\n",
       "    <tr>\n",
       "      <th>58</th>\n",
       "      <td>Rocky Aur Rani Ki Prem Kahani</td>\n",
       "      <td>2023</td>\n",
       "      <td>Karan Johar</td>\n",
       "      <td>Karan JoharHiroo Yash Johar,Apoorva Mehta</td>\n",
       "      <td>Ranveer Singh, Alia Bhatt, Dharmendra, Shabana...</td>\n",
       "      <td>TBA</td>\n",
       "      <td>[114]</td>\n",
       "    </tr>\n",
       "    <tr>\n",
       "      <th>59</th>\n",
       "      <td>Anand Tiwari's untitled next</td>\n",
       "      <td>2023</td>\n",
       "      <td>Karan Johar</td>\n",
       "      <td>Karan JoharHiroo Yash Johar,Apoorva Mehta</td>\n",
       "      <td>Vicky Kaushal, Tripti Dimri, Ammy Virk</td>\n",
       "      <td>TBA</td>\n",
       "      <td>[115]</td>\n",
       "    </tr>\n",
       "    <tr>\n",
       "      <th>60</th>\n",
       "      <td>Selfiee</td>\n",
       "      <td>2023</td>\n",
       "      <td>Raj Mehta</td>\n",
       "      <td>Karan JoharPrithviraj SukumaranAruna Bhatia,Hi...</td>\n",
       "      <td>Akshay Kumar, Emraan Hashmi, Nushrratt Bharucc...</td>\n",
       "      <td>TBA</td>\n",
       "      <td>[116][117]</td>\n",
       "    </tr>\n",
       "  </tbody>\n",
       "</table>\n",
       "</div>"
      ],
      "text/plain": [
       "                            Title  Year          Director  \\\n",
       "56                      Dostana 2  2022    Collin D'Cunha   \n",
       "57                       Bedhadak  2022  Shashank Khaitan   \n",
       "58  Rocky Aur Rani Ki Prem Kahani  2023       Karan Johar   \n",
       "59   Anand Tiwari's untitled next  2023       Karan Johar   \n",
       "60                        Selfiee  2023         Raj Mehta   \n",
       "\n",
       "                                          Producer(s)  \\\n",
       "56               Karan JoharHiroo Johar,Apoorva Mehta   \n",
       "57          Karan JoharHiroo Yash Johar,Apoorva Mehta   \n",
       "58          Karan JoharHiroo Yash Johar,Apoorva Mehta   \n",
       "59          Karan JoharHiroo Yash Johar,Apoorva Mehta   \n",
       "60  Karan JoharPrithviraj SukumaranAruna Bhatia,Hi...   \n",
       "\n",
       "                                                 Cast Synopsis        Ref.  \n",
       "56                       Janhvi Kapoor, Laksh Lalwani      TBA       [111]  \n",
       "57  Laksh Lalwani, Gurfateh Singh Pirzada, Shanaya...      TBA  [112][113]  \n",
       "58  Ranveer Singh, Alia Bhatt, Dharmendra, Shabana...      TBA       [114]  \n",
       "59             Vicky Kaushal, Tripti Dimri, Ammy Virk      TBA       [115]  \n",
       "60  Akshay Kumar, Emraan Hashmi, Nushrratt Bharucc...      TBA  [116][117]  "
      ]
     },
     "execution_count": 6,
     "metadata": {},
     "output_type": "execute_result"
    }
   ],
   "source": [
    "d_m_df.tail()"
   ]
  },
  {
   "cell_type": "code",
   "execution_count": 7,
   "id": "f2dd51ce",
   "metadata": {},
   "outputs": [
    {
     "data": {
      "text/plain": [
       "Index(['Title', 'Year', 'Director', 'Producer(s)', 'Cast', 'Synopsis', 'Ref.'], dtype='object')"
      ]
     },
     "execution_count": 7,
     "metadata": {},
     "output_type": "execute_result"
    }
   ],
   "source": [
    "d_m_df.columns"
   ]
  },
  {
   "cell_type": "code",
   "execution_count": 8,
   "id": "6dc946b0",
   "metadata": {},
   "outputs": [
    {
     "name": "stdout",
     "output_type": "stream",
     "text": [
      "<class 'pandas.core.frame.DataFrame'>\n",
      "RangeIndex: 61 entries, 0 to 60\n",
      "Data columns (total 7 columns):\n",
      " #   Column       Non-Null Count  Dtype \n",
      "---  ------       --------------  ----- \n",
      " 0   Title        61 non-null     object\n",
      " 1   Year         61 non-null     int64 \n",
      " 2   Director     61 non-null     object\n",
      " 3   Producer(s)  61 non-null     object\n",
      " 4   Cast         61 non-null     object\n",
      " 5   Synopsis     61 non-null     object\n",
      " 6   Ref.         61 non-null     object\n",
      "dtypes: int64(1), object(6)\n",
      "memory usage: 3.5+ KB\n"
     ]
    }
   ],
   "source": [
    "d_m_df.info()"
   ]
  },
  {
   "cell_type": "code",
   "execution_count": 9,
   "id": "cc9f160c",
   "metadata": {},
   "outputs": [
    {
     "data": {
      "text/html": [
       "<div>\n",
       "<style scoped>\n",
       "    .dataframe tbody tr th:only-of-type {\n",
       "        vertical-align: middle;\n",
       "    }\n",
       "\n",
       "    .dataframe tbody tr th {\n",
       "        vertical-align: top;\n",
       "    }\n",
       "\n",
       "    .dataframe thead th {\n",
       "        text-align: right;\n",
       "    }\n",
       "</style>\n",
       "<table border=\"1\" class=\"dataframe\">\n",
       "  <thead>\n",
       "    <tr style=\"text-align: right;\">\n",
       "      <th></th>\n",
       "      <th>Year</th>\n",
       "    </tr>\n",
       "  </thead>\n",
       "  <tbody>\n",
       "    <tr>\n",
       "      <th>count</th>\n",
       "      <td>61.000000</td>\n",
       "    </tr>\n",
       "    <tr>\n",
       "      <th>mean</th>\n",
       "      <td>2012.918033</td>\n",
       "    </tr>\n",
       "    <tr>\n",
       "      <th>std</th>\n",
       "      <td>10.028784</td>\n",
       "    </tr>\n",
       "    <tr>\n",
       "      <th>min</th>\n",
       "      <td>1980.000000</td>\n",
       "    </tr>\n",
       "    <tr>\n",
       "      <th>25%</th>\n",
       "      <td>2010.000000</td>\n",
       "    </tr>\n",
       "    <tr>\n",
       "      <th>50%</th>\n",
       "      <td>2016.000000</td>\n",
       "    </tr>\n",
       "    <tr>\n",
       "      <th>75%</th>\n",
       "      <td>2020.000000</td>\n",
       "    </tr>\n",
       "    <tr>\n",
       "      <th>max</th>\n",
       "      <td>2023.000000</td>\n",
       "    </tr>\n",
       "  </tbody>\n",
       "</table>\n",
       "</div>"
      ],
      "text/plain": [
       "              Year\n",
       "count    61.000000\n",
       "mean   2012.918033\n",
       "std      10.028784\n",
       "min    1980.000000\n",
       "25%    2010.000000\n",
       "50%    2016.000000\n",
       "75%    2020.000000\n",
       "max    2023.000000"
      ]
     },
     "execution_count": 9,
     "metadata": {},
     "output_type": "execute_result"
    }
   ],
   "source": [
    "d_m_df.describe()"
   ]
  },
  {
   "cell_type": "code",
   "execution_count": 10,
   "id": "4db83f38",
   "metadata": {},
   "outputs": [
    {
     "data": {
      "text/plain": [
       "0"
      ]
     },
     "execution_count": 10,
     "metadata": {},
     "output_type": "execute_result"
    }
   ],
   "source": [
    "#checking for duplicates\n",
    "d_m_df.duplicated().sum()"
   ]
  },
  {
   "cell_type": "code",
   "execution_count": 11,
   "id": "27288d22",
   "metadata": {},
   "outputs": [
    {
     "data": {
      "text/plain": [
       "Title          0\n",
       "Year           0\n",
       "Director       0\n",
       "Producer(s)    0\n",
       "Cast           0\n",
       "Synopsis       0\n",
       "Ref.           0\n",
       "dtype: int64"
      ]
     },
     "execution_count": 11,
     "metadata": {},
     "output_type": "execute_result"
    }
   ],
   "source": [
    "#checking for null values in the dataset\n",
    "d_m_df.isnull().sum()"
   ]
  },
  {
   "cell_type": "code",
   "execution_count": 12,
   "id": "e3ba102a",
   "metadata": {},
   "outputs": [],
   "source": [
    "#looking at the columns after checking for null values on the dataset the producers column needs renaming\n",
    "d_m_df.rename(columns = {'Producer(s)':'Producers'}, inplace = True)"
   ]
  },
  {
   "cell_type": "code",
   "execution_count": 13,
   "id": "063f9f76",
   "metadata": {},
   "outputs": [
    {
     "data": {
      "text/html": [
       "<div>\n",
       "<style scoped>\n",
       "    .dataframe tbody tr th:only-of-type {\n",
       "        vertical-align: middle;\n",
       "    }\n",
       "\n",
       "    .dataframe tbody tr th {\n",
       "        vertical-align: top;\n",
       "    }\n",
       "\n",
       "    .dataframe thead th {\n",
       "        text-align: right;\n",
       "    }\n",
       "</style>\n",
       "<table border=\"1\" class=\"dataframe\">\n",
       "  <thead>\n",
       "    <tr style=\"text-align: right;\">\n",
       "      <th></th>\n",
       "      <th>Title</th>\n",
       "      <th>Year</th>\n",
       "      <th>Director</th>\n",
       "      <th>Producers</th>\n",
       "      <th>Cast</th>\n",
       "      <th>Synopsis</th>\n",
       "    </tr>\n",
       "  </thead>\n",
       "  <tbody>\n",
       "    <tr>\n",
       "      <th>0</th>\n",
       "      <td>Dostana</td>\n",
       "      <td>1980</td>\n",
       "      <td>Raj Khosla</td>\n",
       "      <td>Yash Johar</td>\n",
       "      <td>Amitabh Bachchan, Shatrughan Sinha, Zeenat Aman</td>\n",
       "      <td>A police officer and a lawyer are best friends...</td>\n",
       "    </tr>\n",
       "    <tr>\n",
       "      <th>1</th>\n",
       "      <td>Duniya</td>\n",
       "      <td>1984</td>\n",
       "      <td>Ramesh Talwar</td>\n",
       "      <td>Yash Johar</td>\n",
       "      <td>Dilip Kumar, Rishi Kapoor, Amrita Singh, Saira...</td>\n",
       "      <td>An honest man is wrongly imprisoned by crimina...</td>\n",
       "    </tr>\n",
       "    <tr>\n",
       "      <th>2</th>\n",
       "      <td>Muqaddar Ka Faisla</td>\n",
       "      <td>1987</td>\n",
       "      <td>Prakash Mehra</td>\n",
       "      <td>Yash Johar</td>\n",
       "      <td>Raaj Kumar, Raakhee, Raj Babbar, Meenakshi Ses...</td>\n",
       "      <td>A Hindu priest is wrongly imprisoned for rape....</td>\n",
       "    </tr>\n",
       "    <tr>\n",
       "      <th>3</th>\n",
       "      <td>Agneepath</td>\n",
       "      <td>1990</td>\n",
       "      <td>Mukul S. Anand</td>\n",
       "      <td>Yash Johar</td>\n",
       "      <td>Amitabh Bachchan, Mithun Chakraborty, Danny De...</td>\n",
       "      <td>A common man seeks revenge from an unscrupulou...</td>\n",
       "    </tr>\n",
       "    <tr>\n",
       "      <th>4</th>\n",
       "      <td>Gumrah</td>\n",
       "      <td>1993</td>\n",
       "      <td>Mahesh Bhatt</td>\n",
       "      <td>Yash Johar</td>\n",
       "      <td>Sridevi, Sanjay Dutt, Rahul Roy</td>\n",
       "      <td>An aspiring singer is wrongly accused of drug ...</td>\n",
       "    </tr>\n",
       "  </tbody>\n",
       "</table>\n",
       "</div>"
      ],
      "text/plain": [
       "                Title  Year        Director   Producers  \\\n",
       "0             Dostana  1980      Raj Khosla  Yash Johar   \n",
       "1              Duniya  1984   Ramesh Talwar  Yash Johar   \n",
       "2  Muqaddar Ka Faisla  1987   Prakash Mehra  Yash Johar   \n",
       "3           Agneepath  1990  Mukul S. Anand  Yash Johar   \n",
       "4              Gumrah  1993    Mahesh Bhatt  Yash Johar   \n",
       "\n",
       "                                                Cast  \\\n",
       "0    Amitabh Bachchan, Shatrughan Sinha, Zeenat Aman   \n",
       "1  Dilip Kumar, Rishi Kapoor, Amrita Singh, Saira...   \n",
       "2  Raaj Kumar, Raakhee, Raj Babbar, Meenakshi Ses...   \n",
       "3  Amitabh Bachchan, Mithun Chakraborty, Danny De...   \n",
       "4                    Sridevi, Sanjay Dutt, Rahul Roy   \n",
       "\n",
       "                                            Synopsis  \n",
       "0  A police officer and a lawyer are best friends...  \n",
       "1  An honest man is wrongly imprisoned by crimina...  \n",
       "2  A Hindu priest is wrongly imprisoned for rape....  \n",
       "3  A common man seeks revenge from an unscrupulou...  \n",
       "4  An aspiring singer is wrongly accused of drug ...  "
      ]
     },
     "execution_count": 13,
     "metadata": {},
     "output_type": "execute_result"
    }
   ],
   "source": [
    "# so from the look of the dataset it is okay but we still need to drop some columns which are not useful e.g Ref column\n",
    "d_m_df= d_m_df.drop('Ref.', axis = 1)\n",
    "d_m_df.head()"
   ]
  },
  {
   "cell_type": "code",
   "execution_count": 14,
   "id": "7c12b4bb",
   "metadata": {},
   "outputs": [
    {
     "data": {
      "text/plain": [
       "Title        59\n",
       "Year         25\n",
       "Director     35\n",
       "Producers    32\n",
       "Cast         60\n",
       "Synopsis     50\n",
       "dtype: int64"
      ]
     },
     "execution_count": 14,
     "metadata": {},
     "output_type": "execute_result"
    }
   ],
   "source": [
    "# time to check for the unique number of columns we have \n",
    "d_m_df.nunique()"
   ]
  },
  {
   "cell_type": "code",
   "execution_count": 15,
   "id": "74df5750",
   "metadata": {},
   "outputs": [
    {
     "data": {
      "text/plain": [
       "2022    9\n",
       "2019    5\n",
       "2016    4\n",
       "2014    4\n",
       "2013    4\n",
       "2010    3\n",
       "2012    3\n",
       "2018    3\n",
       "2017    3\n",
       "2023    3\n",
       "2009    2\n",
       "2015    2\n",
       "1998    2\n",
       "2020    2\n",
       "2021    2\n",
       "2008    1\n",
       "1984    1\n",
       "2006    1\n",
       "2005    1\n",
       "2003    1\n",
       "2001    1\n",
       "1993    1\n",
       "1990    1\n",
       "1987    1\n",
       "1980    1\n",
       "Name: Year, dtype: int64"
      ]
     },
     "execution_count": 15,
     "metadata": {},
     "output_type": "execute_result"
    }
   ],
   "source": [
    "# so lets check the value count of the years\n",
    "d_m_df.Year.value_counts()"
   ]
  },
  {
   "cell_type": "code",
   "execution_count": 27,
   "id": "7ef587d7",
   "metadata": {},
   "outputs": [
    {
     "data": {
      "image/png": "[encoded data removed]",
      "text/plain": [
       "<Figure size 864x432 with 1 Axes>"
      ]
     },
     "metadata": {
      "needs_background": "light"
     },
     "output_type": "display_data"
    }
   ],
   "source": [
    "#now lets do some visualisation by plotting graph\n",
    "plt.figure(figsize = (12,6))\n",
    "sns.countplot('Year', data = d_m_df, palette = 'hls')\n",
    "plt.xticks(rotation = 90)\n",
    "plt.show()"
   ]
  },
  {
   "cell_type": "code",
   "execution_count": 19,
   "id": "820181a8",
   "metadata": {},
   "outputs": [
    {
     "data": {
      "text/plain": [
       "array([8, 5, 3, 2, 1], dtype=int64)"
      ]
     },
     "execution_count": 19,
     "metadata": {},
     "output_type": "execute_result"
    }
   ],
   "source": [
    "#so here i tried getting the value counts of unique directors\n",
    "d_m_df.Director.value_counts().unique()"
   ]
  },
  {
   "cell_type": "code",
   "execution_count": 20,
   "id": "afc54a7f",
   "metadata": {},
   "outputs": [
    {
     "data": {
      "text/plain": [
       "Karan Johar                8\n",
       "Shashank Khaitan           5\n",
       "Punit Malhotra             3\n",
       "Raj Mehta                  3\n",
       "Ayan Mukerji               3\n",
       "Shakun Batra               3\n",
       "Mahesh Bhatt               2\n",
       "Abhishek Varman            2\n",
       "Sharan Sharma              2\n",
       "Tarun Mansukhani           2\n",
       "Rensil D'Silva             2\n",
       "Rohit Shetty               2\n",
       "Karan Malhotra             2\n",
       "Meghna Gulzar              1\n",
       "Anurag Singh               1\n",
       "Raj Khosla                 1\n",
       "Bhanu Pratap Singh         1\n",
       "Shaad Ali                  1\n",
       "Vishnuvardhan              1\n",
       "Puri Jagannadh             1\n",
       "Sagar AmbrePushkar Ojha    1\n",
       "Abhay Chopra               1\n",
       "Vinil Mathew               1\n",
       "Gauri Shinde               1\n",
       "Nitya Mehra                1\n",
       "Vikas Bahl                 1\n",
       "Ramesh Talwar              1\n",
       "Ritesh Batra               1\n",
       "Sonam Nair                 1\n",
       "Siddharth Malhotra         1\n",
       "Soham Shah                 1\n",
       "Nikhil Advani              1\n",
       "Mukul S. Anand             1\n",
       "Prakash Mehra              1\n",
       "Collin D'Cunha             1\n",
       "Name: Director, dtype: int64"
      ]
     },
     "execution_count": 20,
     "metadata": {},
     "output_type": "execute_result"
    }
   ],
   "source": [
    "#lets just see the value counts of the directors normally\n",
    "d_m_df.Director.value_counts()"
   ]
  },
  {
   "cell_type": "code",
   "execution_count": 24,
   "id": "a3f1bb2b",
   "metadata": {},
   "outputs": [
    {
     "data": {
      "image/png": "[encoded data removed]",
      "text/plain": [
       "<Figure size 1080x432 with 1 Axes>"
      ]
     },
     "metadata": {
      "needs_background": "light"
     },
     "output_type": "display_data"
    }
   ],
   "source": [
    "# so now lets do some visualisation of our directors\n",
    "plt.figure(figsize = (15,6))\n",
    "sns.histplot(d_m_df.Director, bins = 60)\n",
    "plt.xticks(rotation = 90)\n",
    "plt.show()"
   ]
  },
  {
   "cell_type": "code",
   "execution_count": 28,
   "id": "914fd521",
   "metadata": {},
   "outputs": [
    {
     "data": {
      "text/plain": [
       "array([11,  8,  3,  2,  1], dtype=int64)"
      ]
     },
     "execution_count": 28,
     "metadata": {},
     "output_type": "execute_result"
    }
   ],
   "source": [
    "# now lets check our producers and their counts too\n",
    "d_m_df.Producers.value_counts().unique()"
   ]
  },
  {
   "cell_type": "code",
   "execution_count": 29,
   "id": "72867e7b",
   "metadata": {},
   "outputs": [
    {
     "data": {
      "text/plain": [
       "Karan Johar,Hiroo Johar                                                            11\n",
       "Yash Johar                                                                          8\n",
       "Karan JoharHiroo Yash Johar,Apoorva Mehta                                           3\n",
       "Karan Johar,Hiroo Yash Johar,Apoorva Mehta                                          3\n",
       "Karan Johar,Hiroo Johar,Apoorva Mehta                                               3\n",
       "Karan Johar,Vikas Bahl,Vikramaditya Motwane,Anurag Kashyap                          2\n",
       "Karan Johar,Hiroo Johar,  Apoorva Mehta                                             2\n",
       "Karan Johar,Sajid Nadiadwala                                                        2\n",
       "Karan JoharHiroo Johar                                                              2\n",
       "Karan Johar,Hiroo Johar,Ronnie Screwvala                                            2\n",
       "Hiroo Johar,Gauri Khan                                                              2\n",
       "Karan Johar,Hiroo Yash Johar,Apoorva Mehta,Shashank Khaitan                         1\n",
       "Karan Johar,Aruna Bhatia,Hiroo Yash Johar,Apoorva Mehta,Shashank Khaitan            1\n",
       "Karan Johar,Hiroo Johar,Apoorva Mehta,Puri Jagannadh,Charmme Kaur                   1\n",
       "Karan Johar,Hiroo Johar,Apoorva Mehta,Shakun Batra                                  1\n",
       "Karan JoharHiroo Johar,Apoorva Mehta                                                1\n",
       "Karan Johar,Rohit Shetty,Aruna Bhatia                                               1\n",
       "Karan Johar,Hiroo Johar,Apoorva Mehta,Shabbir Boxwala,Ajay Shah,Himanshu Gandhi     1\n",
       "Karan Johar,Hiroo Johar,Apoorva Mehta,Zee Studios                                   1\n",
       "Karan Johar,Hiroo Johar,Apoorva Mehta,Shashank Khaitan                              1\n",
       "Karan Johar, Hiroo Johar,Gauri Khan, Renu Chopra                                    1\n",
       "Karan Johar,Akshay Kumar                                                            1\n",
       "Karan Johar, Hiroo Johar,Rohit Shetty, Apoorva Mehta                                1\n",
       "Karan Johar,Hiroo Johar, Vineet Jain, Apoorva Mehta                                 1\n",
       "Yash Johar,Karan Johar                                                              1\n",
       "Karan JoharMani Ratnam                                                              1\n",
       "Karan JoharGauri Khan, Gauri Shinde                                                 1\n",
       "Karan Johar,Farhan Akhtar, Ritesh Sidhwani                                          1\n",
       "Guneet Monga,Anurag Kashyap,Arun Rangachari                                         1\n",
       "Hiroo Johar                                                                         1\n",
       "Karan Johar,Shah Rukh Khan                                                          1\n",
       "Karan JoharPrithviraj SukumaranAruna Bhatia,Hiroo Yash Johar,Apoorva Mehta          1\n",
       "Name: Producers, dtype: int64"
      ]
     },
     "execution_count": 29,
     "metadata": {},
     "output_type": "execute_result"
    }
   ],
   "source": [
    "d_m_df.Producers.value_counts()"
   ]
  },
  {
   "cell_type": "code",
   "execution_count": 32,
   "id": "c0e4a896",
   "metadata": {
    "scrolled": true
   },
   "outputs": [
    {
     "data": {
      "image/png": "[encoded data removed]",
      "text/plain": [
       "<Figure size 1008x432 with 1 Axes>"
      ]
     },
     "metadata": {
      "needs_background": "light"
     },
     "output_type": "display_data"
    }
   ],
   "source": [
    "#let's do some Visualisation for the producers\n",
    "plt.figure(figsize = (14,6))\n",
    "sns.countplot('Producers', data = d_m_df, palette = 'hls')\n",
    "plt.xticks(rotation = 90)\n",
    "plt.show()"
   ]
  },
  {
   "cell_type": "code",
   "execution_count": 1,
   "id": "654c05b3",
   "metadata": {},
   "outputs": [
    {
     "ename": "SyntaxError",
     "evalue": "invalid syntax (2597988750.py, line 1)",
     "output_type": "error",
     "traceback": [
      "\u001b[1;36m  Input \u001b[1;32mIn [1]\u001b[1;36m\u001b[0m\n\u001b[1;33m    jupyter nbconvert --to webpdf --allow-chromium-download Dharma Productions Movie Analysis.ipynb\u001b[0m\n\u001b[1;37m            ^\u001b[0m\n\u001b[1;31mSyntaxError\u001b[0m\u001b[1;31m:\u001b[0m invalid syntax\n"
     ]
    }
   ],
   "source": [
    "jupyter nbconvert --to webpdf --allow-chromium-download Dharma Productions Movie Analysis.ipynb"
   ]
  }
 ],
 "metadata": {
  "kernelspec": {
   "display_name": "Python 3 (ipykernel)",
   "language": "python",
   "name": "python3"
  },
  "language_info": {
   "codemirror_mode": {
    "name": "ipython",
    "version": 3
   },
   "file_extension": ".py",
   "mimetype": "text/x-python",
   "name": "python",
   "nbconvert_exporter": "python",
   "pygments_lexer": "ipython3",
   "version": "3.10.4"
  }
 },
 "nbformat": 4,
 "nbformat_minor": 5
}
